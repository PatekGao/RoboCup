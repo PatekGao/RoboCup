{
 "cells": [
  {
   "cell_type": "markdown",
   "metadata": {
    "collapsed": true
   },
   "source": [
    "# 数据集准备\n",
    "### 标准多人标注文件解压\n",
    "解压操作前请将OSS中\n",
    "* annotations文件夹中的压缩包放置于data文件夹下\n",
    "* image文件夹中的压缩包放置于data/image文件夹下\n",
    "\n",
    "#### 解压标注文件"
   ]
  },
  {
   "cell_type": "code",
   "execution_count": 4,
   "outputs": [],
   "source": [
    "import shutil\n",
    "import zipfile\n",
    "import os\n",
    "\n",
    "fileList = os.listdir('../data')\n",
    "fileList.remove('image')\n",
    "# fileList.remove('identify')\n",
    "\n",
    "for file in fileList:\n",
    "\tif file.split('.')[-1] != 'zip':\n",
    "\t\tcontinue\n",
    "\ttask = file.split('.')[0]\n",
    "\tZipFile = zipfile.ZipFile('../data/%s.zip' % task)\n",
    "\tZipFile.extract(ZipFile.namelist()[0], '../data')\n",
    "\tZipFile.close()\n",
    "\tshutil.move('../data/annotations/instances_default.json', '../data/%s.json' % task)\n",
    "\tshutil.rmtree('../data/annotations')\n",
    "\tos.remove('../data/%s.zip' % task)"
   ],
   "metadata": {
    "collapsed": false
   }
  },
  {
   "cell_type": "markdown",
   "source": [
    "#### 解压图片文件"
   ],
   "metadata": {
    "collapsed": false
   }
  },
  {
   "cell_type": "code",
   "execution_count": 3,
   "outputs": [],
   "source": [
    "import zipfile\n",
    "import os\n",
    "\n",
    "fileList = os.listdir('../data/image')\n",
    "\n",
    "tasks = []\n",
    "for file in fileList:\n",
    "\tif file.split('.')[-1] != 'zip':\n",
    "\t\tcontinue\n",
    "\ttask = file.split('.')[0]\n",
    "\ttasks.append(task)\n",
    "\tZipFile = zipfile.ZipFile('../data/image/%s.zip' % task)\n",
    "\tZipFile.extractall('../data/image')\n",
    "\tZipFile.close()\n",
    "\tos.remove('../data/image/%s.zip' % task)"
   ],
   "metadata": {
    "collapsed": false
   }
  },
  {
   "cell_type": "markdown",
   "source": [
    "### 处理C系列数据不规范命名"
   ],
   "metadata": {
    "collapsed": false
   }
  },
  {
   "cell_type": "code",
   "execution_count": 5,
   "outputs": [],
   "source": [
    "import os\n",
    "import shutil\n",
    "\n",
    "folders = ['task1', 'task2', 'task3', 'task4', 'task5']\n",
    "for i in range(len(folders)):\n",
    "\tfolder=folders[i]\n",
    "\tif folder == '':\n",
    "\t\tcontinue\n",
    "\tfolder = folders[i]\n",
    "\tfileList = os.listdir('../data/image/%s' % folder)\n",
    "\tfor file in fileList:\n",
    "\t\tshutil.move('../data/image/%s/%s' % (folder, file), '../data/image/C%i-%s' % (i+1, file))\n",
    "\tos.removedirs('../data/image/%s' % folder)"
   ],
   "metadata": {
    "collapsed": false
   }
  },
  {
   "cell_type": "code",
   "execution_count": 2,
   "outputs": [],
   "source": [
    "import ujson as json\n",
    "\n",
    "files = ['', '', 'taskc3.json']\n",
    "for j in range(len(files)):\n",
    "\tfile = files[j]\n",
    "\tif file == '':\n",
    "\t\tcontinue\n",
    "\twith open('../data/%s' % file, 'r') as f:\n",
    "\t\tdata = json.load(f)\n",
    "\tfor i in range(len(data['images'])):\n",
    "\t\tdata['images'][i]['file_name'] = ('C%i-' % (j+1)) + data['images'][i]['file_name'].split('/')[-1]\n",
    "\twith open('../data/%s' % file, 'w') as f:\n",
    "\t\tjson.dump(data, f)"
   ],
   "metadata": {
    "collapsed": false
   }
  },
  {
   "cell_type": "markdown",
   "source": [
    "### 数据集合并"
   ],
   "metadata": {
    "collapsed": false
   }
  },
  {
   "cell_type": "code",
   "execution_count": 11,
   "outputs": [
    {
     "name": "stdout",
     "output_type": "stream",
     "text": [
      "3676\n",
      "2907\n",
      "4176\n",
      "3407\n",
      "6107\n",
      "3907\n",
      "6607\n",
      "4407\n",
      "6903\n",
      "4907\n",
      "7921\n",
      "5407\n",
      "8732\n",
      "5907\n",
      "9616\n",
      "6407\n",
      "10116\n",
      "6907\n",
      "11699\n",
      "7209\n",
      "12199\n",
      "7709\n",
      "12676\n",
      "8209\n",
      "13096\n",
      "8709\n",
      "13573\n",
      "9209\n",
      "13799\n",
      "9709\n",
      "17012\n",
      "10209\n",
      "17124\n",
      "10709\n",
      "17534\n",
      "11209\n",
      "18085\n",
      "11709\n",
      "18585\n",
      "12209\n",
      "19085\n",
      "12709\n",
      "19544\n",
      "13209\n",
      "19988\n",
      "13709\n"
     ]
    }
   ],
   "source": [
    "import json\n",
    "import os\n",
    "\n",
    "with open('../data/task0.json', 'r') as file:\n",
    "\tjsonFile = json.load(file)\n",
    "fileList = os.listdir('../data')\n",
    "fileList.remove('image')\n",
    "fileList.remove('yolo')\n",
    "# fileList.remove('identify')\n",
    "if 'task.json' in fileList:\n",
    "\tfileList.remove('task.json')\n",
    "fileList.remove('task0.json')\n",
    "for file in fileList:\n",
    "\tnames = file.split('.')\n",
    "\tif names[1] != 'json':\n",
    "\t\tcontinue\n",
    "\ttask = names[0]\n",
    "\twith open(\"../data/%s.json\" % task, 'r') as file:\n",
    "\t\tnowFile = json.load(file)\n",
    "\tnowImageId = len(jsonFile['images'])\n",
    "\tnowAnnId = len(jsonFile['annotations'])\n",
    "\tfor i in range(len(nowFile['images'])):\n",
    "\t\tnowFile['images'][i]['id'] += nowImageId\n",
    "\tfor i in range(len(nowFile['annotations'])):\n",
    "\t\tnowFile['annotations'][i]['id'] += nowAnnId\n",
    "\t\tnowFile['annotations'][i]['image_id'] += nowImageId\n",
    "\tjsonFile['images'] += nowFile['images']\n",
    "\tjsonFile['annotations'] += nowFile['annotations']\n",
    "\tprint(nowAnnId)\n",
    "\tprint(nowImageId)\n",
    "with open(\"../data/task.json\", 'w') as f:\n",
    "    f.write(json.dumps(jsonFile))"
   ],
   "metadata": {
    "collapsed": false
   }
  },
  {
   "cell_type": "markdown",
   "source": [
    "### 平衡数据集中标注个数"
   ],
   "metadata": {
    "collapsed": false
   }
  },
  {
   "cell_type": "code",
   "execution_count": 6,
   "metadata": {
    "collapsed": false
   },
   "outputs": [
    {
     "name": "stdout",
     "output_type": "stream",
     "text": [
      "loading annotations into memory...\n",
      "Done (t=0.15s)\n",
      "creating index...\n",
      "index created!\n",
      "{1: 126, 5: 105, 9: 422, 10: 196, 12: 1812}\n",
      "{1: 126, 5: 105, 9: 422, 10: 196, 12: 1812}\n",
      "0\n"
     ]
    }
   ],
   "source": [
    "from pycocotools.coco import COCO\n",
    "import random\n",
    "import json\n",
    "\n",
    "# 设置目标标注个数\n",
    "targetNumber = 800\n",
    "\n",
    "coco = COCO('../data/task.json')\n",
    "cocoIds = coco.getCatIds()\n",
    "removeCat = {}\n",
    "removeList = []\n",
    "for it in cocoIds:\n",
    "\tlength = len(coco.getImgIds(catIds=[it]))\n",
    "\tif length > targetNumber:\n",
    "\t\tremoveCat[it] = length - targetNumber\n",
    "print(removeCat)\n",
    "removeKeys = list(removeCat.keys())\n",
    "for it in removeKeys:\n",
    "\timages = coco.getImgIds(catIds=[it])\n",
    "\trandom.shuffle(images)\n",
    "\tfor image in images:\n",
    "\t\tannIds = coco.getAnnIds(imgIds=[image])\n",
    "\t\twillRemove = True\n",
    "\t\tfor annId in annIds:\n",
    "\t\t\tif coco.loadAnns(annId)[0]['category_id'] not in removeCat.keys():\n",
    "\t\t\t\twillRemove = False\n",
    "\t\t\t\tbreak\n",
    "\t\tif willRemove:\n",
    "\t\t\tcontinue\n",
    "\t\tremoveList.append(image)\n",
    "\t\tremoveCat[it] -= 1\n",
    "\t\tremoveCatKeysWillRemove = []\n",
    "\t\tfor k, v in removeCat.items():\n",
    "\t\t\tif v <= 0:\n",
    "\t\t\t\tremoveCatKeysWillRemove.append(k)\n",
    "\t\tfor removeKey in  removeCatKeysWillRemove:\n",
    "\t\t\tremoveCat.pop(removeKey)\n",
    "\t\tif it not in removeCat.keys() or removeCat[it] <= 0:\n",
    "\t\t\tbreak\n",
    "print(removeCat)\n",
    "print(len(removeList))"
   ]
  },
  {
   "cell_type": "code",
   "execution_count": 2,
   "outputs": [
    {
     "ename": "NameError",
     "evalue": "name 'json' is not defined",
     "output_type": "error",
     "traceback": [
      "\u001B[0;31m---------------------------------------------------------------------------\u001B[0m",
      "\u001B[0;31mNameError\u001B[0m                                 Traceback (most recent call last)",
      "\u001B[0;32m/tmp/ipykernel_8584/304356638.py\u001B[0m in \u001B[0;36m<module>\u001B[0;34m\u001B[0m\n\u001B[1;32m      1\u001B[0m \u001B[0;31m# 删除多余标注\u001B[0m\u001B[0;34m\u001B[0m\u001B[0;34m\u001B[0m\u001B[0;34m\u001B[0m\u001B[0m\n\u001B[1;32m      2\u001B[0m \u001B[0;32mwith\u001B[0m \u001B[0mopen\u001B[0m\u001B[0;34m(\u001B[0m\u001B[0;34m'../data/task.json'\u001B[0m\u001B[0;34m,\u001B[0m \u001B[0;34m'r'\u001B[0m\u001B[0;34m)\u001B[0m \u001B[0;32mas\u001B[0m \u001B[0mfile\u001B[0m\u001B[0;34m:\u001B[0m\u001B[0;34m\u001B[0m\u001B[0;34m\u001B[0m\u001B[0m\n\u001B[0;32m----> 3\u001B[0;31m         \u001B[0mjsonFile\u001B[0m \u001B[0;34m=\u001B[0m \u001B[0mjson\u001B[0m\u001B[0;34m.\u001B[0m\u001B[0mload\u001B[0m\u001B[0;34m(\u001B[0m\u001B[0mfile\u001B[0m\u001B[0;34m)\u001B[0m\u001B[0;34m\u001B[0m\u001B[0;34m\u001B[0m\u001B[0m\n\u001B[0m\u001B[1;32m      4\u001B[0m \u001B[0mi\u001B[0m \u001B[0;34m=\u001B[0m \u001B[0;36m0\u001B[0m\u001B[0;34m\u001B[0m\u001B[0;34m\u001B[0m\u001B[0m\n\u001B[1;32m      5\u001B[0m \u001B[0;32mwhile\u001B[0m \u001B[0mi\u001B[0m \u001B[0;34m<\u001B[0m \u001B[0mlen\u001B[0m\u001B[0;34m(\u001B[0m\u001B[0mjsonFile\u001B[0m\u001B[0;34m[\u001B[0m\u001B[0;34m'images'\u001B[0m\u001B[0;34m]\u001B[0m\u001B[0;34m)\u001B[0m\u001B[0;34m:\u001B[0m\u001B[0;34m\u001B[0m\u001B[0;34m\u001B[0m\u001B[0m\n",
      "\u001B[0;31mNameError\u001B[0m: name 'json' is not defined"
     ]
    }
   ],
   "source": [
    "# 删除多余标注\n",
    "with open('../data/task.json', 'r') as file:\n",
    "\tjsonFile = json.load(file)\n",
    "i = 0\n",
    "while i < len(jsonFile['images']):\n",
    "    if jsonFile['images'][i]['id'] in removeList:\n",
    "        jsonFile['images'].pop(i)\n",
    "        i -= 1\n",
    "    i += 1\n",
    "i = 0\n",
    "while i < len(jsonFile['annotations']):\n",
    "    if jsonFile['annotations'][i]['image_id'] in removeList:\n",
    "        jsonFile['annotations'].pop(i)\n",
    "        i -= 1\n",
    "    i += 1\n",
    "with open(\"../data/task.json\", 'w') as f:\n",
    "    f.write(json.dumps(jsonFile))"
   ],
   "metadata": {
    "collapsed": false
   }
  },
  {
   "cell_type": "code",
   "execution_count": 3,
   "outputs": [
    {
     "ename": "NameError",
     "evalue": "name 'COCO' is not defined",
     "output_type": "error",
     "traceback": [
      "\u001B[0;31m---------------------------------------------------------------------------\u001B[0m",
      "\u001B[0;31mNameError\u001B[0m                                 Traceback (most recent call last)",
      "\u001B[0;32m/tmp/ipykernel_8584/342039363.py\u001B[0m in \u001B[0;36m<module>\u001B[0;34m\u001B[0m\n\u001B[1;32m      1\u001B[0m \u001B[0;31m# 删除多余图片\u001B[0m\u001B[0;34m\u001B[0m\u001B[0;34m\u001B[0m\u001B[0;34m\u001B[0m\u001B[0m\n\u001B[0;32m----> 2\u001B[0;31m \u001B[0mcoco\u001B[0m \u001B[0;34m=\u001B[0m \u001B[0mCOCO\u001B[0m\u001B[0;34m(\u001B[0m\u001B[0;34m'../data/task.json'\u001B[0m\u001B[0;34m)\u001B[0m\u001B[0;34m\u001B[0m\u001B[0;34m\u001B[0m\u001B[0m\n\u001B[0m\u001B[1;32m      3\u001B[0m \u001B[0mremoveList\u001B[0m \u001B[0;34m=\u001B[0m \u001B[0;34m[\u001B[0m\u001B[0;34m]\u001B[0m\u001B[0;34m\u001B[0m\u001B[0;34m\u001B[0m\u001B[0m\n\u001B[1;32m      4\u001B[0m \u001B[0mimgIds\u001B[0m \u001B[0;34m=\u001B[0m \u001B[0mcoco\u001B[0m\u001B[0;34m.\u001B[0m\u001B[0mgetImgIds\u001B[0m\u001B[0;34m(\u001B[0m\u001B[0;34m)\u001B[0m\u001B[0;34m\u001B[0m\u001B[0;34m\u001B[0m\u001B[0m\n\u001B[1;32m      5\u001B[0m \u001B[0;32mfor\u001B[0m \u001B[0mimgId\u001B[0m \u001B[0;32min\u001B[0m \u001B[0mimgIds\u001B[0m\u001B[0;34m:\u001B[0m\u001B[0;34m\u001B[0m\u001B[0;34m\u001B[0m\u001B[0m\n",
      "\u001B[0;31mNameError\u001B[0m: name 'COCO' is not defined"
     ]
    }
   ],
   "source": [
    "# 删除多余图片\n",
    "coco = COCO('../data/task.json')\n",
    "removeList = []\n",
    "imgIds = coco.getImgIds()\n",
    "for imgId in imgIds:\n",
    "\tif len(coco.getAnnIds(imgIds=[imgId])) == 0:\n",
    "\t\tremoveList.append(imgId)\n",
    "with open('../data/task.json', 'r') as file:\n",
    "\tjsonFile = json.load(file)\n",
    "i = 0\n",
    "while i < len(jsonFile['images']):\n",
    "    if jsonFile['images'][i]['id'] in removeList:\n",
    "        jsonFile['images'].pop(i)\n",
    "        i -= 1\n",
    "    i += 1\n",
    "i = 0\n",
    "while i < len(jsonFile['annotations']):\n",
    "    if jsonFile['annotations'][i]['image_id'] in removeList:\n",
    "        jsonFile['annotations'].pop(i)\n",
    "        i -= 1\n",
    "    i += 1\n",
    "with open(\"../data/task.json\", 'w') as f:\n",
    "    f.write(json.dumps(jsonFile))"
   ],
   "metadata": {
    "collapsed": false
   }
  },
  {
   "cell_type": "markdown",
   "source": [
    "### 移除无标注文件"
   ],
   "metadata": {
    "collapsed": false
   }
  },
  {
   "cell_type": "code",
   "execution_count": 4,
   "outputs": [
    {
     "name": "stdout",
     "output_type": "stream",
     "text": [
      "loading annotations into memory...\n",
      "Done (t=0.24s)\n",
      "creating index...\n",
      "index created!\n"
     ]
    },
    {
     "data": {
      "text/plain": "0"
     },
     "execution_count": 4,
     "metadata": {},
     "output_type": "execute_result"
    }
   ],
   "source": [
    "from pycocotools.coco import COCO\n",
    "\n",
    "\n",
    "coco = COCO('../data/task.json')\n",
    "isAnn = []\n",
    "anns = coco.loadAnns(coco.getAnnIds())\n",
    "imgs = coco.loadImgs(coco.getImgIds())\n",
    "for it in anns:\n",
    "\tidx = it['image_id']\n",
    "\tisAnn.append(idx)\n",
    "removeList = []\n",
    "for it in imgs:\n",
    "\tif it['id'] not in isAnn:\n",
    "\t\tremoveList.append(it['id'])\n",
    "len(removeList)"
   ],
   "metadata": {
    "collapsed": false
   }
  },
  {
   "cell_type": "code",
   "execution_count": 5,
   "outputs": [
    {
     "name": "stdout",
     "output_type": "stream",
     "text": [
      "12477\n",
      "12477\n"
     ]
    }
   ],
   "source": [
    "import json\n",
    "\n",
    "with open('../data/task.json', 'r') as file:\n",
    "\tjsonFile = json.load(file)\n",
    "i = 0\n",
    "print(len(jsonFile['images']))\n",
    "while i < len(jsonFile['images']):\n",
    "    if jsonFile['images'][i]['id'] in removeList:\n",
    "        jsonFile['images'].pop(i)\n",
    "        i -= 1\n",
    "    i += 1\n",
    "print(len(jsonFile['images']))\n",
    "i = 0\n",
    "while i < len(jsonFile['annotations']):\n",
    "    if jsonFile['annotations'][i]['image_id'] in removeList:\n",
    "        jsonFile['annotations'].pop(i)\n",
    "        i -= 1\n",
    "    i += 1\n",
    "with open(\"../data/task.json\", 'w') as f:\n",
    "    f.write(json.dumps(jsonFile))"
   ],
   "metadata": {
    "collapsed": false
   }
  },
  {
   "cell_type": "markdown",
   "source": [
    "### 转为yolo格式数据集"
   ],
   "metadata": {
    "collapsed": false
   }
  },
  {
   "cell_type": "code",
   "execution_count": 12,
   "outputs": [
    {
     "name": "stdout",
     "output_type": "stream",
     "text": [
      "loading annotations into memory...\n",
      "Done (t=0.29s)\n",
      "creating index...\n",
      "index created!\n"
     ]
    }
   ],
   "source": [
    "from coco_to_yolo import ConvertCOCOToYOLO\n",
    "\n",
    "ConvertCOCOToYOLO(img_path='../data/image', json_path='../data/task.json').convert()\n"
   ],
   "metadata": {
    "collapsed": false
   }
  },
  {
   "cell_type": "markdown",
   "source": [
    "## 切换测量/识别赛项工作空间\n",
    "### 切换到测量赛项"
   ],
   "metadata": {
    "collapsed": false
   }
  },
  {
   "cell_type": "code",
   "execution_count": 10,
   "outputs": [],
   "source": [
    "import shutil\n",
    "import os\n",
    "\n",
    "files = os.listdir('../data')\n",
    "if 'identify' in files:\n",
    "\tfiles.remove('identify')\n",
    "else:\n",
    "\tos.mkdir('../data/identify')\n",
    "if 'measure' in files:\n",
    "\tfiles.remove('measure')\n",
    "else:\n",
    "\tos.mkdir('../data/measure')\n",
    "for file in files:\n",
    "\tshutil.move(os.path.join('../data', file), os.path.join('../data/identify', file))\n",
    "files = os.listdir('../data/measure')\n",
    "for file in files:\n",
    "\tshutil.move(os.path.join('../data/measure', file), os.path.join('../data', file))"
   ],
   "metadata": {
    "collapsed": false
   }
  },
  {
   "cell_type": "markdown",
   "source": [
    "### 切换到识别赛项"
   ],
   "metadata": {
    "collapsed": false
   }
  },
  {
   "cell_type": "code",
   "execution_count": 7,
   "outputs": [],
   "source": [
    "import shutil\n",
    "import os\n",
    "\n",
    "files = os.listdir('../data')\n",
    "if 'identify' in files:\n",
    "\tfiles.remove('identify')\n",
    "else:\n",
    "\tos.mkdir('../data/identify')\n",
    "if 'measure' in files:\n",
    "\tfiles.remove('measure')\n",
    "else:\n",
    "\tos.mkdir('../data/measure')\n",
    "files.remove('identify')\n",
    "for file in files:\n",
    "\tshutil.move(os.path.join('../data', file), os.path.join('../data/measure', file))\n",
    "files = os.listdir('../data/identify')\n",
    "for file in files:\n",
    "\tshutil.move(os.path.join('../data/identify', file), os.path.join('../data', file))"
   ],
   "metadata": {
    "collapsed": false
   }
  }
 ],
 "metadata": {
  "kernelspec": {
   "display_name": "Python 3",
   "language": "python",
   "name": "python3"
  },
  "language_info": {
   "codemirror_mode": {
    "name": "ipython",
    "version": 2
   },
   "file_extension": ".py",
   "mimetype": "text/x-python",
   "name": "python",
   "nbconvert_exporter": "python",
   "pygments_lexer": "ipython2",
   "version": "2.7.6"
  }
 },
 "nbformat": 4,
 "nbformat_minor": 0
}
